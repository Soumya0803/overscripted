{
 "cells": [
  {
   "cell_type": "markdown",
   "metadata": {},
   "source": [
    "## Extract TLD in WebRTC Fingerprinting scripts\n",
    "\n",
    "This notebook extracts the TLDs in WebRTC Fingerprinting scripts. The heuristics to find out the WebRTC Fingerprinting scripts is directly taken from [2019_03_willougr_fingerprinting_implementation_sixth_sense/WebRTC Fingerprinting Heuristics](https://github.com/mozilla/overscripted/blob/master/analyses/2019_03_willougr_fingerprinting_implementation_sixth_sense/WebRTC%20Fingerprinting%20Heuristics.ipynb)."
   ]
  },
  {
   "cell_type": "code",
   "execution_count": 1,
   "metadata": {},
   "outputs": [
    {
     "name": "stderr",
     "output_type": "stream",
     "text": [
      "/home/soumya/.conda/envs/overscripted/lib/python3.6/site-packages/dask/config.py:168: YAMLLoadWarning: calling yaml.load() without Loader=... is deprecated, as the default Loader is unsafe. Please read https://msg.pyyaml.org/load for full details.\n",
      "  data = yaml.load(f.read()) or {}\n",
      "/home/soumya/.conda/envs/overscripted/lib/python3.6/site-packages/distributed/config.py:20: YAMLLoadWarning: calling yaml.load() without Loader=... is deprecated, as the default Loader is unsafe. Please read https://msg.pyyaml.org/load for full details.\n",
      "  defaults = yaml.load(f)\n",
      "/home/soumya/.conda/envs/overscripted/lib/python3.6/site-packages/distributed/bokeh/core.py:57: UserWarning: \n",
      "Port 8787 is already in use. \n",
      "Perhaps you already have a cluster running?\n",
      "Hosting the diagnostics dashboard on a random port instead.\n",
      "  warnings.warn('\\n' + msg)\n"
     ]
    },
    {
     "data": {
      "text/html": [
       "<table style=\"border: 2px solid white;\">\n",
       "<tr>\n",
       "<td style=\"vertical-align: top; border: 0px solid white\">\n",
       "<h3>Client</h3>\n",
       "<ul>\n",
       "  <li><b>Scheduler: </b>tcp://127.0.0.1:33861\n",
       "  <li><b>Dashboard: </b><a href='http://127.0.0.1:36361/status' target='_blank'>http://127.0.0.1:36361/status</a>\n",
       "</ul>\n",
       "</td>\n",
       "<td style=\"vertical-align: top; border: 0px solid white\">\n",
       "<h3>Cluster</h3>\n",
       "<ul>\n",
       "  <li><b>Workers: </b>4</li>\n",
       "  <li><b>Cores: </b>12</li>\n",
       "  <li><b>Memory: </b>8.25 GB</li>\n",
       "</ul>\n",
       "</td>\n",
       "</tr>\n",
       "</table>"
      ],
      "text/plain": [
       "<Client: scheduler='tcp://127.0.0.1:33861' processes=4 cores=12>"
      ]
     },
     "execution_count": 1,
     "metadata": {},
     "output_type": "execute_result"
    }
   ],
   "source": [
    "import dask.dataframe as dd\n",
    "import json\n",
    "\n",
    "from dask.distributed import Client, progress\n",
    "\n",
    "DATA_DIR = 'YOUR DATA DIRECTORY HERE'\n",
    "DATA_DIR_FULL = '/home/soumya/Dataset/sample_0.parquet'\n",
    "Client()"
   ]
  },
  {
   "cell_type": "markdown",
   "metadata": {},
   "source": [
    "## Setup"
   ]
  },
  {
   "cell_type": "code",
   "execution_count": 2,
   "metadata": {},
   "outputs": [
    {
     "data": {
      "text/html": [
       "<div>\n",
       "<style scoped>\n",
       "    .dataframe tbody tr th:only-of-type {\n",
       "        vertical-align: middle;\n",
       "    }\n",
       "\n",
       "    .dataframe tbody tr th {\n",
       "        vertical-align: top;\n",
       "    }\n",
       "\n",
       "    .dataframe thead th {\n",
       "        text-align: right;\n",
       "    }\n",
       "</style>\n",
       "<table border=\"1\" class=\"dataframe\">\n",
       "  <thead>\n",
       "    <tr style=\"text-align: right;\">\n",
       "      <th></th>\n",
       "      <th>script_url</th>\n",
       "      <th>symbol</th>\n",
       "      <th>location</th>\n",
       "    </tr>\n",
       "    <tr>\n",
       "      <th>call_id</th>\n",
       "      <th></th>\n",
       "      <th></th>\n",
       "      <th></th>\n",
       "    </tr>\n",
       "  </thead>\n",
       "  <tbody>\n",
       "    <tr>\n",
       "      <th>1_00006011493ed94fb8010cead84ee610cdbece5de961abe96f0cba54.json__0</th>\n",
       "      <td>https://vk.com/js/api/xdm.js?1449919642</td>\n",
       "      <td>window.name</td>\n",
       "      <td>https://vk.com/widget_comments.php?app=2297596...</td>\n",
       "    </tr>\n",
       "    <tr>\n",
       "      <th>1_00006011493ed94fb8010cead84ee610cdbece5de961abe96f0cba54.json__1</th>\n",
       "      <td>https://vk.com/js/api/xdm.js?1449919642</td>\n",
       "      <td>window.name</td>\n",
       "      <td>https://vk.com/widget_comments.php?app=2297596...</td>\n",
       "    </tr>\n",
       "    <tr>\n",
       "      <th>1_00006011493ed94fb8010cead84ee610cdbece5de961abe96f0cba54.json__2</th>\n",
       "      <td>https://vk.com/js/al/aes_light.js?592436914</td>\n",
       "      <td>window.navigator.userAgent</td>\n",
       "      <td>https://vk.com/widget_comments.php?app=2297596...</td>\n",
       "    </tr>\n",
       "    <tr>\n",
       "      <th>1_00006b1ad6ce7a5b2b81a8ef96f0778853ea6d81a97693d85a52790c.json__0</th>\n",
       "      <td>https://cpro.baidustatic.com/cpro/ui/noexpire/...</td>\n",
       "      <td>window.navigator.userAgent</td>\n",
       "      <td>https://pos.baidu.com/s?hei=70&amp;wid=670&amp;di=u313...</td>\n",
       "    </tr>\n",
       "    <tr>\n",
       "      <th>1_0000813d43acf1fe219ada01597cfb1d5dc9c12b61f343c6cfac362b.json__0</th>\n",
       "      <td>https://apis.google.com/js/plusone.js?_=151338...</td>\n",
       "      <td>window.document.cookie</td>\n",
       "      <td>http://serienjunkies.org/smilf/smilf-season-1-...</td>\n",
       "    </tr>\n",
       "  </tbody>\n",
       "</table>\n",
       "</div>"
      ],
      "text/plain": [
       "                                                                                           script_url  \\\n",
       "call_id                                                                                                 \n",
       "1_00006011493ed94fb8010cead84ee610cdbece5de961a...            https://vk.com/js/api/xdm.js?1449919642   \n",
       "1_00006011493ed94fb8010cead84ee610cdbece5de961a...            https://vk.com/js/api/xdm.js?1449919642   \n",
       "1_00006011493ed94fb8010cead84ee610cdbece5de961a...        https://vk.com/js/al/aes_light.js?592436914   \n",
       "1_00006b1ad6ce7a5b2b81a8ef96f0778853ea6d81a9769...  https://cpro.baidustatic.com/cpro/ui/noexpire/...   \n",
       "1_0000813d43acf1fe219ada01597cfb1d5dc9c12b61f34...  https://apis.google.com/js/plusone.js?_=151338...   \n",
       "\n",
       "                                                                        symbol  \\\n",
       "call_id                                                                          \n",
       "1_00006011493ed94fb8010cead84ee610cdbece5de961a...                 window.name   \n",
       "1_00006011493ed94fb8010cead84ee610cdbece5de961a...                 window.name   \n",
       "1_00006011493ed94fb8010cead84ee610cdbece5de961a...  window.navigator.userAgent   \n",
       "1_00006b1ad6ce7a5b2b81a8ef96f0778853ea6d81a9769...  window.navigator.userAgent   \n",
       "1_0000813d43acf1fe219ada01597cfb1d5dc9c12b61f34...      window.document.cookie   \n",
       "\n",
       "                                                                                             location  \n",
       "call_id                                                                                                \n",
       "1_00006011493ed94fb8010cead84ee610cdbece5de961a...  https://vk.com/widget_comments.php?app=2297596...  \n",
       "1_00006011493ed94fb8010cead84ee610cdbece5de961a...  https://vk.com/widget_comments.php?app=2297596...  \n",
       "1_00006011493ed94fb8010cead84ee610cdbece5de961a...  https://vk.com/widget_comments.php?app=2297596...  \n",
       "1_00006b1ad6ce7a5b2b81a8ef96f0778853ea6d81a9769...  https://pos.baidu.com/s?hei=70&wid=670&di=u313...  \n",
       "1_0000813d43acf1fe219ada01597cfb1d5dc9c12b61f34...  http://serienjunkies.org/smilf/smilf-season-1-...  "
      ]
     },
     "execution_count": 2,
     "metadata": {},
     "output_type": "execute_result"
    }
   ],
   "source": [
    "df = dd.read_parquet(DATA_DIR_FULL, columns=['script_url', 'symbol', 'location'])\n",
    "df = df[['script_url', 'symbol', 'location']]\n",
    "df.head()"
   ]
  },
  {
   "cell_type": "markdown",
   "metadata": {},
   "source": [
    "## Pull out Candidate URLs for RTCPeerConnection.onicecandidate"
   ]
  },
  {
   "cell_type": "code",
   "execution_count": null,
   "metadata": {},
   "outputs": [
    {
     "name": "stderr",
     "output_type": "stream",
     "text": [
      "/home/soumya/.local/lib/python3.6/site-packages/pandas/core/ops.py:1649: FutureWarning: elementwise comparison failed; returning scalar instead, but in the future will perform elementwise comparison\n",
      "  result = method(y)\n"
     ]
    },
    {
     "name": "stdout",
     "output_type": "stream",
     "text": [
      "[###                                     ] | 8% Completed | 50.4s"
     ]
    }
   ],
   "source": [
    "onicecandidate_candidate_urls_df = df[df.symbol == 'RTCPeerConnection.onicecandidate']\n",
    "onicecandidate_candidate_urls_df = onicecandidate_candidate_urls_df[['script_url', 'location']].drop_duplicates().persist()\n",
    "progress(onicecandidate_candidate_urls_df, notebook=False)"
   ]
  },
  {
   "cell_type": "code",
   "execution_count": 4,
   "metadata": {},
   "outputs": [],
   "source": [
    "onicecandidate_candidate_urls_df = onicecandidate_candidate_urls_df.compute()\n",
    "onicecandidate_candidate_urls_df.head()"
   ]
  },
  {
   "cell_type": "code",
   "execution_count": 5,
   "metadata": {},
   "outputs": [],
   "source": [
    "onicecandidate_candidate_urls = set(onicecandidate_candidate_urls_df.itertuples(index=False))"
   ]
  },
  {
   "cell_type": "markdown",
   "metadata": {},
   "source": [
    "## Pull out Candidate URLs for RTCPeerConnection.createDataChannel"
   ]
  },
  {
   "cell_type": "code",
   "execution_count": 6,
   "metadata": {},
   "outputs": [
    {
     "name": "stdout",
     "output_type": "stream",
     "text": [
      "[########################################] | 100% Completed |  1min 22.4s\r"
     ]
    }
   ],
   "source": [
    "create_data_channel_candidate_urls_df = df[df.symbol == 'RTCPeerConnection.createDataChannel']\n",
    "create_data_channel_candidate_urls_df = create_data_channel_candidate_urls_df[['script_url', 'location']].drop_duplicates().persist()\n",
    "progress(create_data_channel_candidate_urls_df, notebook=False)"
   ]
  },
  {
   "cell_type": "code",
   "execution_count": 7,
   "metadata": {},
   "outputs": [
    {
     "data": {
      "text/html": [
       "<div>\n",
       "<style scoped>\n",
       "    .dataframe tbody tr th:only-of-type {\n",
       "        vertical-align: middle;\n",
       "    }\n",
       "\n",
       "    .dataframe tbody tr th {\n",
       "        vertical-align: top;\n",
       "    }\n",
       "\n",
       "    .dataframe thead th {\n",
       "        text-align: right;\n",
       "    }\n",
       "</style>\n",
       "<table border=\"1\" class=\"dataframe\">\n",
       "  <thead>\n",
       "    <tr style=\"text-align: right;\">\n",
       "      <th></th>\n",
       "      <th>script_url</th>\n",
       "      <th>location</th>\n",
       "    </tr>\n",
       "    <tr>\n",
       "      <th>call_id</th>\n",
       "      <th></th>\n",
       "      <th></th>\n",
       "    </tr>\n",
       "  </thead>\n",
       "  <tbody>\n",
       "    <tr>\n",
       "      <th>1_0001e211e7dd3877ff0243ae0ba0d1f6f9963ca210656cbd8c53681a.json__149</th>\n",
       "      <td>https://g.alicdn.com/secdev/sufei_data/3.2.2/i...</td>\n",
       "      <td>https://maniform.world.tmall.com/category-1282...</td>\n",
       "    </tr>\n",
       "    <tr>\n",
       "      <th>1_00192dd939606d0cf33d4ad4b9af45016033991bd0ca23e445186a63.json__15</th>\n",
       "      <td>http://g.alicdn.com/secdev/sufei_data/3.2.2/in...</td>\n",
       "      <td>http://c.youku.com/abouteg/youtu</td>\n",
       "    </tr>\n",
       "    <tr>\n",
       "      <th>1_004010408d52b4795f9c28996bc478ce21097bd70a25c5ec32b06588.json__104</th>\n",
       "      <td>https://g.alicdn.com/secdev/sufei_data/3.2.2/i...</td>\n",
       "      <td>https://list.tmall.com/search_product.htm?acm=...</td>\n",
       "    </tr>\n",
       "    <tr>\n",
       "      <th>1_006fa636a8391d1f4f4b79dcb0a6b76f1121b488f31b7159a13572b9.json__93</th>\n",
       "      <td>https://g.alicdn.com/secdev/sufei_data/3.2.2/i...</td>\n",
       "      <td>https://list.tmall.com/search_product.htm?abbu...</td>\n",
       "    </tr>\n",
       "    <tr>\n",
       "      <th>1_009b1cd1cc99c638f3ca546996cc3fade323d725907078138bf457d6.json__42</th>\n",
       "      <td>https://g.alicdn.com/security/umscript/3.3.2/u...</td>\n",
       "      <td>https://login.taobao.com/member/login.jhtml?fr...</td>\n",
       "    </tr>\n",
       "  </tbody>\n",
       "</table>\n",
       "</div>"
      ],
      "text/plain": [
       "                                                                                           script_url  \\\n",
       "call_id                                                                                                 \n",
       "1_0001e211e7dd3877ff0243ae0ba0d1f6f9963ca210656...  https://g.alicdn.com/secdev/sufei_data/3.2.2/i...   \n",
       "1_00192dd939606d0cf33d4ad4b9af45016033991bd0ca2...  http://g.alicdn.com/secdev/sufei_data/3.2.2/in...   \n",
       "1_004010408d52b4795f9c28996bc478ce21097bd70a25c...  https://g.alicdn.com/secdev/sufei_data/3.2.2/i...   \n",
       "1_006fa636a8391d1f4f4b79dcb0a6b76f1121b488f31b7...  https://g.alicdn.com/secdev/sufei_data/3.2.2/i...   \n",
       "1_009b1cd1cc99c638f3ca546996cc3fade323d72590707...  https://g.alicdn.com/security/umscript/3.3.2/u...   \n",
       "\n",
       "                                                                                             location  \n",
       "call_id                                                                                                \n",
       "1_0001e211e7dd3877ff0243ae0ba0d1f6f9963ca210656...  https://maniform.world.tmall.com/category-1282...  \n",
       "1_00192dd939606d0cf33d4ad4b9af45016033991bd0ca2...                   http://c.youku.com/abouteg/youtu  \n",
       "1_004010408d52b4795f9c28996bc478ce21097bd70a25c...  https://list.tmall.com/search_product.htm?acm=...  \n",
       "1_006fa636a8391d1f4f4b79dcb0a6b76f1121b488f31b7...  https://list.tmall.com/search_product.htm?abbu...  \n",
       "1_009b1cd1cc99c638f3ca546996cc3fade323d72590707...  https://login.taobao.com/member/login.jhtml?fr...  "
      ]
     },
     "execution_count": 7,
     "metadata": {},
     "output_type": "execute_result"
    }
   ],
   "source": [
    "create_data_channel_candidate_urls_df = create_data_channel_candidate_urls_df.compute()\n",
    "create_data_channel_candidate_urls_df.head()"
   ]
  },
  {
   "cell_type": "code",
   "execution_count": 8,
   "metadata": {},
   "outputs": [],
   "source": [
    "create_data_channel_candidate_urls = set(create_data_channel_candidate_urls_df.itertuples(index=False))"
   ]
  },
  {
   "cell_type": "markdown",
   "metadata": {},
   "source": [
    "## Pull out Candidate URLs for RTCPeerConnection.createOffer"
   ]
  },
  {
   "cell_type": "code",
   "execution_count": null,
   "metadata": {},
   "outputs": [
    {
     "name": "stdout",
     "output_type": "stream",
     "text": [
      "[########################################] | 100% Completed | 58.5s\r"
     ]
    }
   ],
   "source": [
    "create_offer_candidate_urls_df = df[df.symbol == 'RTCPeerConnection.createOffer']\n",
    "create_offer_candidate_urls_df = create_offer_candidate_urls_df[['script_url', 'location']].drop_duplicates().persist()\n",
    "progress(create_offer_candidate_urls_df, notebook=False)"
   ]
  },
  {
   "cell_type": "code",
   "execution_count": null,
   "metadata": {},
   "outputs": [
    {
     "data": {
      "text/html": [
       "<div>\n",
       "<style scoped>\n",
       "    .dataframe tbody tr th:only-of-type {\n",
       "        vertical-align: middle;\n",
       "    }\n",
       "\n",
       "    .dataframe tbody tr th {\n",
       "        vertical-align: top;\n",
       "    }\n",
       "\n",
       "    .dataframe thead th {\n",
       "        text-align: right;\n",
       "    }\n",
       "</style>\n",
       "<table border=\"1\" class=\"dataframe\">\n",
       "  <thead>\n",
       "    <tr style=\"text-align: right;\">\n",
       "      <th></th>\n",
       "      <th>script_url</th>\n",
       "      <th>location</th>\n",
       "    </tr>\n",
       "    <tr>\n",
       "      <th>call_id</th>\n",
       "      <th></th>\n",
       "      <th></th>\n",
       "    </tr>\n",
       "  </thead>\n",
       "  <tbody>\n",
       "    <tr>\n",
       "      <th>1_0001e211e7dd3877ff0243ae0ba0d1f6f9963ca210656cbd8c53681a.json__150</th>\n",
       "      <td>https://g.alicdn.com/secdev/sufei_data/3.2.2/i...</td>\n",
       "      <td>https://maniform.world.tmall.com/category-1282...</td>\n",
       "    </tr>\n",
       "    <tr>\n",
       "      <th>1_00192dd939606d0cf33d4ad4b9af45016033991bd0ca23e445186a63.json__16</th>\n",
       "      <td>http://g.alicdn.com/secdev/sufei_data/3.2.2/in...</td>\n",
       "      <td>http://c.youku.com/abouteg/youtu</td>\n",
       "    </tr>\n",
       "    <tr>\n",
       "      <th>1_004010408d52b4795f9c28996bc478ce21097bd70a25c5ec32b06588.json__105</th>\n",
       "      <td>https://g.alicdn.com/secdev/sufei_data/3.2.2/i...</td>\n",
       "      <td>https://list.tmall.com/search_product.htm?acm=...</td>\n",
       "    </tr>\n",
       "    <tr>\n",
       "      <th>1_006fa636a8391d1f4f4b79dcb0a6b76f1121b488f31b7159a13572b9.json__94</th>\n",
       "      <td>https://g.alicdn.com/secdev/sufei_data/3.2.2/i...</td>\n",
       "      <td>https://list.tmall.com/search_product.htm?abbu...</td>\n",
       "    </tr>\n",
       "    <tr>\n",
       "      <th>1_009b1cd1cc99c638f3ca546996cc3fade323d725907078138bf457d6.json__43</th>\n",
       "      <td>https://g.alicdn.com/security/umscript/3.3.2/u...</td>\n",
       "      <td>https://login.taobao.com/member/login.jhtml?fr...</td>\n",
       "    </tr>\n",
       "  </tbody>\n",
       "</table>\n",
       "</div>"
      ],
      "text/plain": [
       "                                                                                           script_url  \\\n",
       "call_id                                                                                                 \n",
       "1_0001e211e7dd3877ff0243ae0ba0d1f6f9963ca210656...  https://g.alicdn.com/secdev/sufei_data/3.2.2/i...   \n",
       "1_00192dd939606d0cf33d4ad4b9af45016033991bd0ca2...  http://g.alicdn.com/secdev/sufei_data/3.2.2/in...   \n",
       "1_004010408d52b4795f9c28996bc478ce21097bd70a25c...  https://g.alicdn.com/secdev/sufei_data/3.2.2/i...   \n",
       "1_006fa636a8391d1f4f4b79dcb0a6b76f1121b488f31b7...  https://g.alicdn.com/secdev/sufei_data/3.2.2/i...   \n",
       "1_009b1cd1cc99c638f3ca546996cc3fade323d72590707...  https://g.alicdn.com/security/umscript/3.3.2/u...   \n",
       "\n",
       "                                                                                             location  \n",
       "call_id                                                                                                \n",
       "1_0001e211e7dd3877ff0243ae0ba0d1f6f9963ca210656...  https://maniform.world.tmall.com/category-1282...  \n",
       "1_00192dd939606d0cf33d4ad4b9af45016033991bd0ca2...                   http://c.youku.com/abouteg/youtu  \n",
       "1_004010408d52b4795f9c28996bc478ce21097bd70a25c...  https://list.tmall.com/search_product.htm?acm=...  \n",
       "1_006fa636a8391d1f4f4b79dcb0a6b76f1121b488f31b7...  https://list.tmall.com/search_product.htm?abbu...  \n",
       "1_009b1cd1cc99c638f3ca546996cc3fade323d72590707...  https://login.taobao.com/member/login.jhtml?fr...  "
      ]
     },
     "execution_count": 10,
     "metadata": {},
     "output_type": "execute_result"
    }
   ],
   "source": [
    "create_offer_candidate_urls_df = create_offer_candidate_urls_df.compute()\n",
    "create_offer_candidate_urls_df.head()"
   ]
  },
  {
   "cell_type": "code",
   "execution_count": null,
   "metadata": {},
   "outputs": [],
   "source": [
    "create_offer_candidate_urls = set(create_offer_candidate_urls_df.itertuples(index=False))"
   ]
  },
  {
   "cell_type": "markdown",
   "metadata": {},
   "source": [
    "## URLs should call all of: [RTCPeerConnection.onicecandidate, RTCPeerConnection.createDataChannel, RTCPeerConnection.createOffer]"
   ]
  },
  {
   "cell_type": "code",
   "execution_count": null,
   "metadata": {},
   "outputs": [],
   "source": [
    "all_candidate_urls = onicecandidate_candidate_urls | create_data_channel_candidate_urls | create_offer_candidate_urls\n",
    "candidate_urls = onicecandidate_candidate_urls & create_data_channel_candidate_urls & create_offer_candidate_urls"
   ]
  },
  {
   "cell_type": "code",
   "execution_count": null,
   "metadata": {},
   "outputs": [
    {
     "name": "stdout",
     "output_type": "stream",
     "text": [
      "# of unique tuples (script_url, location) that call all 3 symbols: 1224\n",
      "# of unique tuples (script_url, location) that only call 1 or 2 symols: 664\n"
     ]
    }
   ],
   "source": [
    "print('# of unique tuples (script_url, location) that call all 3 symbols:', len(candidate_urls))\n",
    "print('# of unique tuples (script_url, location) that only call 1 or 2 symols:', len(all_candidate_urls - candidate_urls))"
   ]
  },
  {
   "cell_type": "code",
   "execution_count": null,
   "metadata": {},
   "outputs": [],
   "source": [
    "with open('not_webrtc_multi_symbol_fingerprinting_1.json', 'w') as f:\n",
    "    f.write(json.dumps(list(set([script_url for script_url, location in (all_candidate_urls - candidate_urls)]))))"
   ]
  },
  {
   "cell_type": "markdown",
   "metadata": {},
   "source": [
    "Note: conversion from a list to a set to a list above is used in case the same script_url is called from multiple locations"
   ]
  },
  {
   "cell_type": "markdown",
   "metadata": {},
   "source": [
    "## Drop false positives"
   ]
  },
  {
   "cell_type": "code",
   "execution_count": null,
   "metadata": {},
   "outputs": [],
   "source": [
    "false_positives = {\n",
    "    \"nextwebsnetworks.com/in/video\",\n",
    "    \"nextwebsnetworks.com/in/remnant\",\n",
    "    \"sandbox02.kaxsdc.com/collect/logo.htm\",\n",
    "    \"digitalforexnfashionstyles.com/sms4send2.php\",\n",
    "    \"www.badlion.net/\",\n",
    "    \"ajax.googleapis.com/ajax/libs/jquery/1.8/jquery.min.js\"\n",
    "}\n",
    "\n",
    "webrtc_fp_urls = set([(script_url, location) for script_url, location in candidate_urls if script_url not in false_positives])"
   ]
  },
  {
   "cell_type": "code",
   "execution_count": null,
   "metadata": {},
   "outputs": [
    {
     "name": "stdout",
     "output_type": "stream",
     "text": [
      "# of unique tuples (script_url, location) that were false positives: 0\n",
      "# of unique tuples (script_url, location) that used WebRTC fingerprinting: 1224\n"
     ]
    }
   ],
   "source": [
    "print('# of unique tuples (script_url, location) that were false positives:', len(candidate_urls - webrtc_fp_urls))\n",
    "print('# of unique tuples (script_url, location) that used WebRTC fingerprinting:', len(webrtc_fp_urls))"
   ]
  },
  {
   "cell_type": "code",
   "execution_count": null,
   "metadata": {},
   "outputs": [],
   "source": [
    "with open('not_webrtc_multi_symbol_fingerprinting_2.json', 'w') as f:\n",
    "    f.write(json.dumps(list(set([script_url for script_url, location in (candidate_urls - webrtc_fp_urls)]))))"
   ]
  },
  {
   "cell_type": "markdown",
   "metadata": {},
   "source": [
    "## Save Candidate URLs"
   ]
  },
  {
   "cell_type": "code",
   "execution_count": null,
   "metadata": {},
   "outputs": [],
   "source": [
    "with open('webrtc_multi_symbol_fingerprinting.json', 'w') as f:\n",
    "    f.write(json.dumps(list(set([script_url for script_url, location in webrtc_fp_urls]))))"
   ]
  },
  {
   "cell_type": "markdown",
   "metadata": {},
   "source": [
    "## Find Locations"
   ]
  },
  {
   "cell_type": "code",
   "execution_count": null,
   "metadata": {},
   "outputs": [
    {
     "name": "stdout",
     "output_type": "stream",
     "text": [
      "230 == 1313\n"
     ]
    }
   ],
   "source": [
    "with open('webrtc_multi_symbol_fingerprinting.json', 'r') as f:\n",
    "    webrtc_fp_urls = json.load(f)\n",
    "    \n",
    "print(len(webrtc_fp_urls), '== 1313')"
   ]
  },
  {
   "cell_type": "code",
   "execution_count": null,
   "metadata": {},
   "outputs": [],
   "source": [
    "df = dd.read_parquet(DATA_DIR_FULL, columns=['script_url', 'location'])"
   ]
  },
  {
   "cell_type": "code",
   "execution_count": null,
   "metadata": {},
   "outputs": [
    {
     "name": "stdout",
     "output_type": "stream",
     "text": [
      "[########################################] | 100% Completed |  1min 21.3s\r"
     ]
    }
   ],
   "source": [
    "df_locs = df[df.script_url.isin(webrtc_fp_urls)]\n",
    "locs = df_locs.location.unique().persist()\n",
    "progress(locs, notebook=False)"
   ]
  },
  {
   "cell_type": "code",
   "execution_count": null,
   "metadata": {},
   "outputs": [
    {
     "name": "stdout",
     "output_type": "stream",
     "text": [
      "# of locations that call WebRTC fingerprinting scripts: 1376\n"
     ]
    }
   ],
   "source": [
    "print('# of locations that call WebRTC fingerprinting scripts:', len(locs))"
   ]
  },
  {
   "cell_type": "code",
   "execution_count": null,
   "metadata": {},
   "outputs": [
    {
     "data": {
      "text/plain": [
       "['https://www.westernunion.com/etc/clientlibs/westernunion/wu_common.js?seed=AMC0qWFgAQAA3daqXevDq9gMSnOX_iS5bPawtu5rBu6_sH7i6aPGIpPhwcKJ',\n",
       " 'https://imgs.signifyd.com/fp/check.js;CIS3SID=46FAAF9D930623535273CF4E2B2782CC?org_id=w2txo5aa&session_id=01242de5f6a9596633701c18fda3d767&pageid=1&nonce=02c5fd061a23e90e',\n",
       " 'https://t1.tacdn.com/fp/check.js;CIS3SID=1A4F45FF67BC329B2A5E8D83E9F866A4?org_id=0w57c49k&session_id=7db13b749160429de9b5b5a1053693a5&pageid=1&nonce=9885f23990657754',\n",
       " 'https://js.ad-score.com/score.min.js?pid=1000343&tt=g#tid=DFP_JS&l1=/15188745/Lipsum-Unit3&l2=lipsum.com&l3=https://fi.lipsum.com/&phfl=l6&uip=%%USER_IP%%&pub_domain=https://fi.lipsum.com/&ref=https://fi.lipsum.com/&cb=7763056',\n",
       " 'https://static.fraudmetrix.cn/fm.js?ver=0.1&t=420401']"
      ]
     },
     "execution_count": 23,
     "metadata": {},
     "output_type": "execute_result"
    }
   ],
   "source": [
    "webrtc_fp_urls[0:5]"
   ]
  },
  {
   "cell_type": "markdown",
   "metadata": {},
   "source": [
    "## Extract TLD"
   ]
  },
  {
   "cell_type": "code",
   "execution_count": null,
   "metadata": {},
   "outputs": [
    {
     "data": {
      "text/plain": [
       "['com',\n",
       " 'com',\n",
       " 'com',\n",
       " 'com',\n",
       " 'cn',\n",
       " 'ua',\n",
       " 'com',\n",
       " 'es',\n",
       " '',\n",
       " 'cn',\n",
       " 'com',\n",
       " 'photos',\n",
       " 'com',\n",
       " 'com',\n",
       " 'com',\n",
       " 'com',\n",
       " 'com',\n",
       " 'com',\n",
       " 'com',\n",
       " 'com',\n",
       " 'com',\n",
       " 'cn',\n",
       " 'com',\n",
       " 'com',\n",
       " 'com',\n",
       " 'net',\n",
       " 'cn',\n",
       " 'com',\n",
       " 'com',\n",
       " 'com',\n",
       " 'com',\n",
       " 'ua',\n",
       " 'com',\n",
       " 'com',\n",
       " 'com',\n",
       " 'ua',\n",
       " 'com',\n",
       " 'vn',\n",
       " 'net',\n",
       " 'ua',\n",
       " 'com',\n",
       " 'com',\n",
       " 'com',\n",
       " 'com',\n",
       " 'com.br',\n",
       " 'com',\n",
       " 'com',\n",
       " 'photos',\n",
       " 'com',\n",
       " 'com']"
      ]
     },
     "execution_count": 24,
     "metadata": {},
     "output_type": "execute_result"
    }
   ],
   "source": [
    "import tldextract\n",
    "opsuffix=[]\n",
    "opurls=[]\n",
    "for i in range(len(webrtc_fp_urls)):\n",
    "    opurls.append(tldextract.extract(webrtc_fp_urls[i]))\n",
    "    opsuffix.append(opurls[i].suffix)\n",
    "opsuffix[0:50]"
   ]
  },
  {
   "cell_type": "code",
   "execution_count": null,
   "metadata": {},
   "outputs": [
    {
     "data": {
      "text/plain": [
       "230"
      ]
     },
     "execution_count": 25,
     "metadata": {},
     "output_type": "execute_result"
    }
   ],
   "source": [
    "len(webrtc_fp_urls)"
   ]
  },
  {
   "cell_type": "markdown",
   "metadata": {},
   "source": [
    "## Frequency of each TLD"
   ]
  },
  {
   "cell_type": "code",
   "execution_count": null,
   "metadata": {},
   "outputs": [
    {
     "name": "stdout",
     "output_type": "stream",
     "text": [
      "Counter({'com': 143, 'cn': 42, 'ua': 22, 'net': 11, 'photos': 4, 'vn': 2, 're': 2, 'es': 1, '': 1, 'com.br': 1, 'io': 1})\n"
     ]
    }
   ],
   "source": [
    "import collections\n",
    "for i in range(len(opsuffix)):\n",
    "    counter=collections.Counter(opsuffix)\n",
    "print(counter)"
   ]
  },
  {
   "cell_type": "code",
   "execution_count": null,
   "metadata": {},
   "outputs": [
    {
     "data": {
      "text/plain": [
       "11"
      ]
     },
     "execution_count": 27,
     "metadata": {},
     "output_type": "execute_result"
    }
   ],
   "source": [
    "len(counter)"
   ]
  },
  {
   "cell_type": "code",
   "execution_count": 29,
   "metadata": {},
   "outputs": [
    {
     "data": {
      "image/png": "[encoded data removed]",
      "text/plain": [
       "<Figure size 432x288 with 1 Axes>"
      ]
     },
     "metadata": {
      "needs_background": "light"
     },
     "output_type": "display_data"
    }
   ],
   "source": [
    "import pandas as pd\n",
    "dfplot = pd.DataFrame({'domain':['com','cn','ua','net', 'photos','re','vn','es','com.br','io'], 'count':[143,42,22,11,4,2,2,1,1,1]})\n",
    "ax = dfplot.plot.bar(x='domain', y='count', rot=0)"
   ]
  },
  {
   "cell_type": "code",
   "execution_count": null,
   "metadata": {},
   "outputs": [],
   "source": []
  }
 ],
 "metadata": {
  "kernelspec": {
   "display_name": "Python 3",
   "language": "python",
   "name": "python3"
  },
  "language_info": {
   "codemirror_mode": {
    "name": "ipython",
    "version": 3
   },
   "file_extension": ".py",
   "mimetype": "text/x-python",
   "name": "python",
   "nbconvert_exporter": "python",
   "pygments_lexer": "ipython3",
   "version": "3.6.7"
  }
 },
 "nbformat": 4,
 "nbformat_minor": 2
}
