{
 "cells": [
  {
   "cell_type": "markdown",
   "metadata": {},
   "source": [
    "# Analysis on TLD for fingerprining Scripts(Audio, Canvas, Font, WebRTC)\n",
    "\n",
    "### What does Top-Level Domain (TLD) mean?\n",
    "\n",
    "Top-level domain (TLD) refers to the last segment of a domain name, or the part that follows immediately after the \"dot\" symbol. Examples of some of the popular TLDs include .com, .org, .net, .gov, .biz and .edu. \n",
    "\n",
    "A top-level domain recognizes a certain element regarding the associated website, such as its objective (business, government, education), its owner, or the geographical area from which it originated.\n",
    "\n",
    "Each TLD includes an independent registry controlled by a specific organization, which is managed under the guidance of the Internet Corporation for Assigned Names and Numbers (ICANN).\n",
    "\n",
    "ICANN recognizes the following types of TLDs:\n",
    "\n",
    "- Generic Top-Level Domains (gTLD): These are the most popular types of TDLs. Some examples include \".edu\" for educational sites and .\"com\" for commercial sites. These types of TLDs are available for registration.\n",
    "\n",
    "- Country-Code Top-Level Domains (ccTLD): Every ccTLD recognizes a specific country and is generally two letters long. For example, the ccTLD for Australia is \".au\".\n",
    "\n",
    "- Sponsored Top-Level Domains (sTLD): These TLDs are supervised by private organizations.\n",
    "\n",
    "- Infrastructure Top-Level Domains: There is only one TLD in this category, which is \".arpa\". The Internet Assigned Numbers Authority controls this TLD for the Internet Engineering Task Force (IETF).\n",
    "\n"
   ]
  },
  {
   "cell_type": "code",
   "execution_count": 2,
   "metadata": {},
   "outputs": [
    {
     "name": "stderr",
     "output_type": "stream",
     "text": [
      "/home/soumya/.conda/envs/overscripted/lib/python3.6/site-packages/dask/config.py:168: YAMLLoadWarning: calling yaml.load() without Loader=... is deprecated, as the default Loader is unsafe. Please read https://msg.pyyaml.org/load for full details.\n",
      "  data = yaml.load(f.read()) or {}\n",
      "/home/soumya/.conda/envs/overscripted/lib/python3.6/site-packages/distributed/config.py:20: YAMLLoadWarning: calling yaml.load() without Loader=... is deprecated, as the default Loader is unsafe. Please read https://msg.pyyaml.org/load for full details.\n",
      "  defaults = yaml.load(f)\n",
      "/home/soumya/.conda/envs/overscripted/lib/python3.6/site-packages/distributed/bokeh/core.py:57: UserWarning: \n",
      "Port 8787 is already in use. \n",
      "Perhaps you already have a cluster running?\n",
      "Hosting the diagnostics dashboard on a random port instead.\n",
      "  warnings.warn('\\n' + msg)\n"
     ]
    },
    {
     "data": {
      "text/html": [
       "<table style=\"border: 2px solid white;\">\n",
       "<tr>\n",
       "<td style=\"vertical-align: top; border: 0px solid white\">\n",
       "<h3>Client</h3>\n",
       "<ul>\n",
       "  <li><b>Scheduler: </b>tcp://127.0.0.1:42809\n",
       "  <li><b>Dashboard: </b><a href='http://127.0.0.1:38223/status' target='_blank'>http://127.0.0.1:38223/status</a>\n",
       "</ul>\n",
       "</td>\n",
       "<td style=\"vertical-align: top; border: 0px solid white\">\n",
       "<h3>Cluster</h3>\n",
       "<ul>\n",
       "  <li><b>Workers: </b>4</li>\n",
       "  <li><b>Cores: </b>12</li>\n",
       "  <li><b>Memory: </b>8.25 GB</li>\n",
       "</ul>\n",
       "</td>\n",
       "</tr>\n",
       "</table>"
      ],
      "text/plain": [
       "<Client: scheduler='tcp://127.0.0.1:42809' processes=4 cores=12>"
      ]
     },
     "execution_count": 2,
     "metadata": {},
     "output_type": "execute_result"
    }
   ],
   "source": [
    "import pandas as pd\n",
    "import dask.dataframe as dd\n",
    "from dask.distributed import Client\n",
    "\n",
    "Client()"
   ]
  },
  {
   "cell_type": "code",
   "execution_count": 3,
   "metadata": {},
   "outputs": [
    {
     "data": {
      "text/plain": [
       "array(['https://vk.com/js/api/xdm.js?1449919642',\n",
       "       'https://vk.com/js/al/aes_light.js?592436914',\n",
       "       'https://cpro.baidustatic.com/cpro/ui/noexpire/js/4.0.0/adClosefeedbackUpgrade.min.js',\n",
       "       'https://apis.google.com/js/plusone.js?_=1513387467959',\n",
       "       'https://apis.google.com/_/scs/apps-static/_/js/k=oz.gapi.en_US.u6kjN8qjK4c.O/m=plusone/rt=j/sv=1/d=1/ed=1/am=AQ/rs=AGLTcCNyWKI1jWTPxsTegkpGnwIGUlr0VQ/cb=gapi.loaded_0',\n",
       "       'https://assets.adobedtm.com/caacec67651710193d2331efef325107c23a0145/satelliteLib-78cf42deb149c9766cbaaa6151e252b9b67c0200.js',\n",
       "       'https://assets.adobedtm.com/caacec67651710193d2331efef325107c23a0145/s-code-contents-69cce4f42ae039e7c3974e2fa4292c5e7ad592ab.js',\n",
       "       'https://www.google-analytics.com/analytics.js',\n",
       "       'https://www.google-analytics.com/plugins/ua/linkid.js',\n",
       "       'https://www.canada.ca/etc/designs/canada/wet-boew/js/wet-boew.min.js',\n",
       "       'https://www.canada.ca/etc/designs/canada/wet-boew/js/deps/jquery.magnific-popup.min.js',\n",
       "       'https://s0.2mdn.net/879366/Enabler_01_197.js',\n",
       "       'https://g.alicdn.com/kissy/k/1.4.2/seed-min.js',\n",
       "       'https://g.alicdn.com/sea/sitenav-global/0.8.0/global-min.js',\n",
       "       'https://g.alicdn.com/tb/tracker/3.0.7/index.js',\n",
       "       'https://maniform.world.tmall.com/category-1282610376.htm?search=y&catName=%C8%C8%CF%FA%B1%AC%BF%EE',\n",
       "       'https://g.alicdn.com/sanwant/shop-render/0.0.9/render-module.js',\n",
       "       'https://g.alicdn.com/mtb/videox/0.1.33/videox-pc.js',\n",
       "       'https://uaction.alicdn.com/js/ua.js',\n",
       "       'https://g.alicdn.com/alilog/mlog/aplus_v2.js',\n",
       "       'https://g.alicdn.com/tb/tracker/4.0.1/p/index/index.js',\n",
       "       'https://g.alicdn.com/aliww/web.ww/scripts/webww.js',\n",
       "       'https://g.alicdn.com/kissy/k/1.4.2/??io-min.js,cookie-min.js?t=1.js',\n",
       "       'https://g.alicdn.com/tbc/??search-suggest/1.3.3/index-min.js,search-suggest/1.3.3/plugin/history-min.js?t=1.js',\n",
       "       'https://g.alicdn.com/shop/wangpu/1.7.5/??decoration/init-min.js,decoration/compatible-min.js,decoration/countdown-min.js,decoration/isv-min.js,decoration/shopmonitor-min.js,decoration/shopisv-min.js?t=20140409.js',\n",
       "       'https://g.alicdn.com/secdev/sufei_data/3.2.2/index.js',\n",
       "       'https://z.moatads.com/thetradedeskv275874568748/moatad.js#moatClientLevel1=55uaigg&moatClientLevel2=ukl06hq&moatClientLevel3=qx48g4k&moatClientSlicer1=www.baseball-reference.com&zMoatImpressionId=c95d8bf4-265a-497c-86b5-e737e6cf5d82&zMoatCachebuster=306941&zMoatPartnerID=2odgrey&zMoatViewType=0&zMoatCreative=3d428z3w&zMoatDealID=&zMoatSupplyVendor=openx&zMoatSite=www.baseball-reference.com&zMoatTDID=dfcfebf6-02ba-4838-9c95-f0ffdea8d045&moatClientLevel4=https%3A%2F%2Finsight.adsrvr.org%2Fenduser%2Fpie%2F%3Fpie%3D20%26vet%3DVIEWABILITY_EVENT_TYPE%26rtb%3DaWlkPWM5NWQ4YmY0LTI2NWEtNDk3Yy04NmI1LWU3MzdlNmNmNWQ4MiZjcmlkPTNkNDI4ejN3JndwPSR7QVVDVElPTl9QUklDRTpPWENSWVBUfSZhaWQ9MSZ3cGM9VVNEJnNmZT1jNmJkNTZmJnB1aWQ9OGYyZGM5YWYtNzM0YS0zNWUyLTdlZjQtMTMyYmRhOTRiMGYwJnRkaWQ9ZGZjZmViZjYtMDJiYS00ODM4LTljOTUtZjBmZmRlYThkMDQ1JnBpZD0yb2RncmV5JmFnPXF4NDhnNGsmY2Y9MTkxNDEwJmZxPTAmdGRfcz13d3cuYmFzZWJhbGwtcmVmZXJlbmNlLmNvbSZyY2F0cz03azgmbWNhdD0mbXN0ZT13d3cuYmFzZWJhbGwtcmVmZXJlbmNlLmNvbSZtZmxkPTQmbXNzaT01Nml2aWg0Y3JyazEmbWZzaT00dGk2emFiaWZ0JnVob3c9MTM1JmFnc2E9JnJnY289VW5pdGVkJTIwU3RhdGVzJnJncmU9Q2FsaWZvcm5pYSZyZ21lPTgwNyZyZ2NpPU1vdW50YWluJTIwVmlldyZyZ3o9OTQwNDMmc3ZidHRkPTEmZHQ9UEMmb3NmPUxpbnV4Jm9zPU90aGVyJmJyPUZpcmVmb3gmcmxhbmdzPWVuJm1sYW5nPSZzdnBpZD01MzcxMzg0MDgmZGlkPSZyY3h0PU90aGVyJmxhdD00Mi40NjYwMDAmbG9uPS04My4yODkwMDEmdG1wYz0mZGFpZD0mdnA9MCZvc2k9Jm9zdj0mYnA9MC4xNDc4MzgzMjQwNDM5NyZzdnNjaWQ9NTM3Mjg3Mzc1Jm1rPWRlc2t0b3AmbWRsPWJyb3dzZXImZHVyPUNqSUtHMk5vWVhKblpTMWhiR3hRWldWeU16bENjbUZ1WkZOaFptVjBlU0lUQ1B6X19fX19fX19fX3dFU0JuQmxaWEl6T1EuLiZjcnJlbHI9JmFkcHQ9bm9weCZhdHN0PTAmc3Y9b3Blbng.',\n",
       "       'https://platform.twitter.com/widgets/follow_button.64457a6e8f493e1f1022f50e4e7e67e8.en.html#dnt=false&id=twitter-widget-0&lang=en&screen_name=9animeto&show_count=true&show_screen_name=true&size=m&time=1513468753151',\n",
       "       'https://www.coches.net/scripts/common.min.js?20171205',\n",
       "       'https://c.ccdn.es/JSHandler.ashx?v=20171205&fileSet=CA96C0B7E800ABDC9E042F9A0AD48BC288A34046CFF6A981C61B4694F966A6615A824C2DD48160B9D788DD90E81588F37C4DD418B3E16F1B56FE64ABBB7F704A2778C26473A4E13E40C71E437A1FC109826AC80D36BD4A9F93F94643EE60E56E0C36EB65678A0F59C9AEBD8C9D8F2E9A850DD6ECB3AC8506D1D68A79E42F2E69A597F202CFD12D6B5A824C2DD48160B981987478DA46BD56268919E4B714DF35C9AEBD8C9D8F2E9A4A782AFBBADD94F2B3AE5A39FBEE94EE',\n",
       "       'https://tags.tiqcdn.com/utag/schibsted/coches.net/prod/utag.js',\n",
       "       'https://cdn.optimizely.com/js/8475962892.js',\n",
       "       'https://static.criteo.net/js/ld/ld.js',\n",
       "       'https://c.ccdn.es/nochange/scripts/pixels.min.js?20171205',\n",
       "       'https://tags.tiqcdn.com/utag/schibsted/coches.net/prod/utag.81.js?utv=201712050926',\n",
       "       'https://jssdk.pulse.schibsted.com/autoTrackerCochesnet.min.js',\n",
       "       'https://sb.scorecardresearch.com/beacon.js',\n",
       "       'https://script.hotjar.com/modules-526d80f8c01454f84b75838f21c8706e.js',\n",
       "       'https://www.coches.net/ztkieflaaxcvaiwh121837.js',\n",
       "       'https://acdn.adnxs.com/ast/ast.js',\n",
       "       'https://tag.aticdn.net/561882/smarttag.js',\n",
       "       'https://sslwidget.criteo.com/event?a=%5B16413%2C21384%2C44782%5D&v=4.5.2&p0=e%3Dexd%26ci%3Dundefined%26site_type%3Dd&p1=e%3Dce%26m%3D%255Bundefined%255D&p2=e%3Dvl%26p%3D%255B34015084%252C33874395%252C33825558%255D&p3=e%3Ddis&adce=1',\n",
       "       'https://pos.baidu.com/lcdm?rdid=3124385&dc=3&di=u3124385&dri=5&dis=0&dai=8&ps=7083x82&enu=encoding&dcb=___adblockplus&dtm=HTML_POST&dvi=0.0&dci=-1&dpt=none&tsr=0&tpr=1513378519926&ti=%E3%80%90%E6%B8%B8%E4%B9%90%E6%8E%A8%E5%9C%9F%E6%9C%BA%E3%80%91%E6%B8%B8%E4%B9%90%E6%8E%A8%E5%9C%9F%E6%9C%BA%E4%BB%B7%E6%A0%BC_%E6%B8%B8%E4%B9%90%E6%8E%A8%E5%9C%9F%E6%9C%BA%E6%8A%A5%E4%BB%B7%20-%20%E4%B8%AD%E5%9B%BD%E4%BE%9B%E5%BA%94%E5%95%86&ari=2&dbv=0&drs=1&pcs=1353x697&pss=1353x7377&cfv=0&cpl=1&chi=1&cce=true&cec=gbk&tlm=1513378520&prot=2&rw=697&ltu=https%3A%2F%2Fwww.china.cn%2Fsearch%2Ffs9r.shtml&ecd=1&uc=1366x768&pis=-1x-1&sr=1366x768&tcn=1513378521&qn=7d3461185284a84d&tt=1513378519836.1156.1469.1471',\n",
       "       'https://cpro.baidustatic.com/cpro/ui/noexpire/js/4.0.1/adClosefeedbackUpgrade.min.js',\n",
       "       'https://www.facebook.com/rsrc.php/v3ijLc4/y3/l/en_US/SyelLTrAMKs.js',\n",
       "       'http://cbjs.baidu.com/js/m.js',\n",
       "       'http://www.google-analytics.com/analytics.js',\n",
       "       'http://s7.addthis.com/static/sh.7a295a410262af12dfaaa96a.html#rand=0.8045561720360634&iit=1513448269910&tmr=load%3D1513448267200%26core%3D1513448267263%26main%3D1513448269897%26ifr%3D1513448269921&cb=0&cdn=0&md=0&kw=download%2Ctv%20series%2Ctv%20show%2Cserie%2Cfree%2Cfull%20episodes%2Chd%2Chbo%2Camc%2Cnbc&ab=-&dh=toptvshows.co&dr=&du=http%3A%2F%2Ftoptvshows.co%2Fblood-relatives&href=http%3A%2F%2Ftoptvshows.co%2Fblood-relatives&dt=Blood%20Relatives%20(season%201%2C%202%2C3%2C%204%2C%205%2C%206%2C%207)%C2%A0full%20episodes%20download&dbg=0&cap=tc%3D0%26ab%3D0&inst=1&jsl=129&prod=undefined&lng=en&ogt=&pc=men&pub=ra-53f725cf0a8b78e6&ssl=0&sid=5a35634b5421f4d6&srf=0.01&ver=300&xck=0&xtr=0&og=&csi=undefined&rev=v8.1.4-wp&ct=1&xld=1&xd=1',\n",
       "       'http://resources.infolinks.com/js/1610.012/ice.js',\n",
       "       'https://pagead2.googlesyndication.com/pagead/js/lidar.js',\n",
       "       'https://securepubads.g.doubleclick.net/gpt/pubads_impl_170.js',\n",
       "       'https://choices.trustarc.com/ca?aid=tradedesk01&pid=tradedesk01&cid=s0cbcd0_07nauw1_b8u8t3mt&w=160&h=600&c=tradedesk01cont1&js=pmw2',\n",
       "       'http://www.ard.de/clientCode/1433166/907943184101/mainJavaScript_header_mediaMatcher.js',\n",
       "       'http://www.ard.de/clientCode/1433178/5507685189264779541/mainJavaScript_header_app.js',\n",
       "       'http://www.ard.de/home/wissen/500_Jahre_Reformation__Luther_und_die_Revolutionaere/3870076/index.html',\n",
       "       'http://www.ard.de/clientCode/425186/39365715085/mainJavaScript_footer_pixel.js',\n",
       "       'https://script.ioam.de/iam.js',\n",
       "       'https://resources.host.bannerflow.com/tracker.html?d=%7B%22viewedCategoryID%22%3A%22v1039%22%7D&s=%7B%22type%22%3A%22append%22%2C%22expiry%22%3A365%2C%22limit%22%3A10%2C%22account%22%3A%22prisjakt%22%7D',\n",
       "       'http://api.flocktory.com/v2/loader.js?site_id=399',\n",
       "       'http://www.googletagmanager.com/gtm.js?id=GTM-6ZQL',\n",
       "       'http://www.googleadservices.com/pagead/conversion_async.js',\n",
       "       'https://mc.yandex.ru/metrika/watch.js',\n",
       "       'http://static.criteo.net/js/ld/ld.js',\n",
       "       'http://static.mvideo.ru/media/js/mvideo.js?v0.7',\n",
       "       'http://top-fwz1.mail.ru/js/code.js',\n",
       "       'http://static.mvideo.ru/assets/js/libs.js?v19.10',\n",
       "       'http://www.googleadservices.com/pagead/conversion.js',\n",
       "       'https://www.googletagmanager.com/gtm.js?id=GTM-M9JJCX6',\n",
       "       'http://cdn.dumedia.ru/js/dumedia.js?r420389',\n",
       "       'http://api.moxielinks.com/perform.php?action=CATEGORY&name=mvideoru&category=%D0%94%D1%80%D1%83%D0%B3%D0%B8%D0%B5%20%D0%B0%D0%B2%D1%82%D0%BE%D0%BC%D0%BE%D0%B1%D0%B8%D0%BB%D1%8C%D0%BD%D1%8B%D0%B5%20%D0%B0%D0%BA%D1%81%D0%B5%D1%81%D1%81%D1%83%D0%B0%D1%80%D1%8B&r=418614507',\n",
       "       'http://cdn.scarabresearch.com/js/1B30B4D4E7D3F5C7/scarab-v2.js',\n",
       "       'http://widget.criteo.com/event?a=15150&v=4.5.2&p0=e%3Dce%26m%3D%255B%255D&p1=e%3Dvl%26p%3D%255BCityCZ_975.10011398%252CCityCZ_975.10008973%252CCityCZ_975.10011397%252CCityCZ_975.10011395%252CCityCZ_975.10011396%255D&p2=e%3Dexd%26site_type%3Dd&p3=e%3Ddis&adce=1',\n",
       "       'https://jp-tags.mediaforge.com/pix/4634?type=pos&href=https%3A%2F%2Fwww.buyma.com%2Fr%2F-C3140O1%2F%25E3%2583%259F%25E3%2583%25A9%25E3%2583%25BC%25E3%2583%25AC%25E3%2583%25B3%25E3%2582%25BA%2F',\n",
       "       'https://js.adsrvr.org/up_loader.1.1.0.js',\n",
       "       'https://www.facebook.com/rsrc.php/v3/yK/r/txB65A1UOjr.js',\n",
       "       'https://www.facebook.com/rsrc.php/v3/yj/r/djCW1uuZYBz.js',\n",
       "       'http://www.alquds.co.uk/wp-includes/js/jquery/jquery-migrate.min.js?ver=1.2.1',\n",
       "       'http://www.alquds.co.uk/wp-includes/js/jquery/ui/jquery.ui.core.min.js?ver=1.10.4',\n",
       "       'http://s0.wp.com/wp-content/js/devicepx-jetpack.js?ver=201750',\n",
       "       'http://www.alquds.co.uk/wp-content/themes/Newspaper/js/td_external.js?ver=4.2',\n",
       "       'http://www.alquds.co.uk/wp-content/themes/Newspaper/js/full_compact/site.js?ver=4.2',\n",
       "       'http://stats.wp.com/e-201750.js',\n",
       "       'http://www.google-analytics.com/ga.js',\n",
       "       'https://d31qbv1cthcecs.cloudfront.net/atrk.js',\n",
       "       'http://static.addtoany.com/menu/page.js',\n",
       "       'http://connect.facebook.net/en_US/sdk.js#xfbml=1&version=v2.9',\n",
       "       'https://c.adsco.re/',\n",
       "       'https://n-cdn.areyouahuman.com/play/ZQp6LCe0OO3LeZB6ES1CZrJvMefQTtT9oZjddBS5?AYAH_P2=2DE7B66B38AF355AB51D6C2A02AF7BAA&AYAH_F1=Lotame',\n",
       "       'http://dtmc.cabelas.com/fpc/fpcset.html?dtm_token=AQEKS4Gw600QPQEECI87AQEJSwE',\n",
       "       'https://pos.baidu.com/dcnm?rdid=2702342&dc=3&di=u2702342&dri=0&dis=0&dai=16&ps=1491x1031&enu=encoding&dcb=___adblockplus&dtm=HTML_POST&dvi=0.0&dci=-1&dpt=none&tsr=0&tpr=1513452601440&ti=%E3%80%90%E6%89%8B%E6%9C%BA%E6%95%B0%E6%8D%AE%E7%BA%BF%E3%80%91%E6%89%8B%E6%9C%BA%E6%95%B0%E6%8D%AE%E7%BA%BF%E4%BB%B7%E6%A0%BC_%E6%89%8B%E6%9C%BA%E6%95%B0%E6%8D%AE%E7%BA%BF%E6%8A%A5%E4%BB%B7%20-%20%E4%B8%AD%E5%9B%BD%E4%BE%9B%E5%BA%94%E5%95%86&ari=2&dbv=0&drs=1&pcs=1353x697&pss=1353x12135&cfv=0&cpl=1&chi=1&cce=true&cec=gbk&tlm=1513452609&prot=2&rw=697&ltu=https%3A%2F%2Fwww.china.cn%2Fsearch%2F98a.shtml&ecd=1&uc=1366x768&pis=-1x-1&sr=1366x768&tcn=1513452609&qn=d1f16f888278e92a&tt=1513452601378.7694.7926.7927',\n",
       "       'https://pagead2.googlesyndication.com/pagead/js/r20171206/r20170110/show_ads_impl.js',\n",
       "       'https://pagead2.googlesyndication.com/pagead/js/r20171206/r20170110/osd.js',\n",
       "       'https://www.fantagazzetta.com/news/redazionali/04_05_2016/ascolta-e-fai-le-tue-domande-a-fantagazzetta-in-diretta-fm-su-radio-sportiva-223063',\n",
       "       'https://tpc.googlesyndication.com/pagead/js/r20171206/r20110914/activeview/osd_listener.js',\n",
       "       'https://s0.2mdn.net/879366/express_html_inpage_rendering_lib_200_170.js',\n",
       "       'https://tpc.googlesyndication.com/sodar/Yww8ZxGu.js',\n",
       "       'https://secure.widget.cloud.opta.net/v3/v3.opta-widgets.js',\n",
       "       'https://cdn-gl.imrworldwide.com/novms/js/2/nlsSDK600.bundle.min.js',\n",
       "       'https://www.gstatic.com/firebasejs/4.1.2/firebase.js',\n",
       "       'https://connect.facebook.net/it_IT/sdk.js'], dtype=object)"
      ]
     },
     "execution_count": 3,
     "metadata": {},
     "output_type": "execute_result"
    }
   ],
   "source": [
    "\n",
    "df = pd.read_parquet(\n",
    "     '/home/soumya/Dataset/sample_0.parquet', engine='pyarrow',\n",
    "    columns=['script_url']\n",
    ")\n",
    "# Finding the unique scripts\n",
    "script_url_unique=df.script_url.unique()\n",
    "script_url_unique[0:100]"
   ]
  },
  {
   "cell_type": "code",
   "execution_count": 4,
   "metadata": {},
   "outputs": [
    {
     "data": {
      "text/plain": [
       "166862"
      ]
     },
     "execution_count": 4,
     "metadata": {},
     "output_type": "execute_result"
    }
   ],
   "source": [
    "len(script_url_unique)"
   ]
  },
  {
   "cell_type": "code",
   "execution_count": 5,
   "metadata": {},
   "outputs": [
    {
     "data": {
      "text/plain": [
       "array(['vk.com', 'cpro.baidustatic.com', 'apis.google.com',\n",
       "       'assets.adobedtm.com', 'www.google-analytics.com', 'www.canada.ca',\n",
       "       's0.2mdn.net', 'g.alicdn.com', 'maniform.world.tmall.com',\n",
       "       'uaction.alicdn.com', 'z.moatads.com', 'platform.twitter.com',\n",
       "       'www.coches.net', 'c.ccdn.es', 'tags.tiqcdn.com',\n",
       "       'cdn.optimizely.com', 'static.criteo.net',\n",
       "       'jssdk.pulse.schibsted.com', 'sb.scorecardresearch.com',\n",
       "       'script.hotjar.com', 'acdn.adnxs.com', 'tag.aticdn.net',\n",
       "       'sslwidget.criteo.com', 'pos.baidu.com', 'www.facebook.com',\n",
       "       'cbjs.baidu.com', 's7.addthis.com', 'resources.infolinks.com',\n",
       "       'pagead2.googlesyndication.com', 'securepubads.g.doubleclick.net',\n",
       "       'choices.trustarc.com', 'www.ard.de', 'script.ioam.de',\n",
       "       'resources.host.bannerflow.com', 'api.flocktory.com',\n",
       "       'www.googletagmanager.com', 'www.googleadservices.com',\n",
       "       'mc.yandex.ru', 'static.mvideo.ru', 'top-fwz1.mail.ru',\n",
       "       'cdn.dumedia.ru', 'api.moxielinks.com', 'cdn.scarabresearch.com',\n",
       "       'widget.criteo.com', 'jp-tags.mediaforge.com', 'js.adsrvr.org',\n",
       "       'www.alquds.co.uk', 's0.wp.com', 'stats.wp.com',\n",
       "       'd31qbv1cthcecs.cloudfront.net', 'static.addtoany.com',\n",
       "       'connect.facebook.net', 'c.adsco.re', 'n-cdn.areyouahuman.com',\n",
       "       'dtmc.cabelas.com', 'www.fantagazzetta.com',\n",
       "       'tpc.googlesyndication.com', 'secure.widget.cloud.opta.net',\n",
       "       'cdn-gl.imrworldwide.com', 'www.gstatic.com', 'tags.bkrtx.com',\n",
       "       'r.gnavi.co.jp', 'x.gnst.jp', 'c-r.gnst.jp', 'c-cpnt.gnst.jp',\n",
       "       'site.gnavi.co.jp', 'cdn2.skylinewebcams.com', 'www.modiseh.com',\n",
       "       'www.travelocity.com', 'a.travel-assets.com',\n",
       "       'source.mmi.bemobile.ua', 'static.foodity.com',\n",
       "       'www.careers360.com', 'maps.googleapis.com', 'a.optnmnstr.com',\n",
       "       'cdn.notifyvisitors.com', 'bat.bing.com', 'tw.netcore.co.in',\n",
       "       'js-agent.newrelic.com', 'staticxx.facebook.com',\n",
       "       'ssl.gstatic.com', 'sac.ayads.co', 'cdn.krxd.net',\n",
       "       'www.autoscout24.it', 's.salecycle.com', 'arxiv.org',\n",
       "       'static.arxiv.org', 'webanalytics.library.cornell.edu',\n",
       "       'widget.perfectmarket.com', 'fast.aol.demdex.net',\n",
       "       'googleads.g.doubleclick.net', 'c.betrad.com',\n",
       "       'cdn.flashtalking.com', 'www.practo.com', 'www.practostatic.com',\n",
       "       'nav.practo.com', 'cdn.mxpnl.com', 'cdn.inspectlet.com',\n",
       "       'sweep.practo.com', 's.adroll.com'], dtype=object)"
      ]
     },
     "execution_count": 5,
     "metadata": {},
     "output_type": "execute_result"
    }
   ],
   "source": [
    "# Finding the netloc of unique scripts. \n",
    "from urllib.parse import urlparse\n",
    "\n",
    "EMPTY_STRING = 'EMPTY_STRING'\n",
    "\n",
    "def get_netloc(x):\n",
    "    p = urlparse(x)\n",
    "    val = p.netloc\n",
    "    if len(val) == 0:\n",
    "        val = EMPTY_STRING\n",
    "    return val\n",
    "\n",
    "script_netloc_unique= df.script_url.apply(get_netloc).unique()\n",
    "script_netloc_uniquedf=pd.DataFrame(script_netloc_unique)\n",
    "script_netloc_unique[0:100]"
   ]
  },
  {
   "cell_type": "code",
   "execution_count": 6,
   "metadata": {},
   "outputs": [
    {
     "data": {
      "text/plain": [
       "20163"
      ]
     },
     "execution_count": 6,
     "metadata": {},
     "output_type": "execute_result"
    }
   ],
   "source": [
    "len(script_netloc_unique)"
   ]
  },
  {
   "cell_type": "code",
   "execution_count": 7,
   "metadata": {
    "scrolled": true
   },
   "outputs": [
    {
     "name": "stderr",
     "output_type": "stream",
     "text": [
      "/home/soumya/.conda/envs/overscripted/lib/python3.6/site-packages/dask/dataframe/core.py:2285: UserWarning: `meta` is not specified, inferred from partial data. Please provide `meta` if the result is unexpected.\n",
      "  Before: .apply(func)\n",
      "  After:  .apply(func, meta={'x': 'f8', 'y': 'f8'}) for dataframe result\n",
      "  or:     .apply(func, meta=('x', 'f8'))            for series result\n",
      "  warnings.warn(msg)\n"
     ]
    },
    {
     "data": {
      "text/html": [
       "<div>\n",
       "<style scoped>\n",
       "    .dataframe tbody tr th:only-of-type {\n",
       "        vertical-align: middle;\n",
       "    }\n",
       "\n",
       "    .dataframe tbody tr th {\n",
       "        vertical-align: top;\n",
       "    }\n",
       "\n",
       "    .dataframe thead th {\n",
       "        text-align: right;\n",
       "    }\n",
       "</style>\n",
       "<table border=\"1\" class=\"dataframe\">\n",
       "  <thead>\n",
       "    <tr style=\"text-align: right;\">\n",
       "      <th></th>\n",
       "      <th>script_url</th>\n",
       "      <th>script_netloc</th>\n",
       "      <th>script_netloc_uniquedf</th>\n",
       "    </tr>\n",
       "    <tr>\n",
       "      <th>call_id</th>\n",
       "      <th></th>\n",
       "      <th></th>\n",
       "      <th></th>\n",
       "    </tr>\n",
       "  </thead>\n",
       "  <tbody>\n",
       "    <tr>\n",
       "      <th>1_00006011493ed94fb8010cead84ee610cdbece5de961abe96f0cba54.json__0</th>\n",
       "      <td>https://vk.com/js/api/xdm.js?1449919642</td>\n",
       "      <td>vk.com</td>\n",
       "      <td>com</td>\n",
       "    </tr>\n",
       "    <tr>\n",
       "      <th>1_00006011493ed94fb8010cead84ee610cdbece5de961abe96f0cba54.json__1</th>\n",
       "      <td>https://vk.com/js/api/xdm.js?1449919642</td>\n",
       "      <td>vk.com</td>\n",
       "      <td>com</td>\n",
       "    </tr>\n",
       "    <tr>\n",
       "      <th>1_00006011493ed94fb8010cead84ee610cdbece5de961abe96f0cba54.json__2</th>\n",
       "      <td>https://vk.com/js/al/aes_light.js?592436914</td>\n",
       "      <td>vk.com</td>\n",
       "      <td>com</td>\n",
       "    </tr>\n",
       "    <tr>\n",
       "      <th>1_00006b1ad6ce7a5b2b81a8ef96f0778853ea6d81a97693d85a52790c.json__0</th>\n",
       "      <td>https://cpro.baidustatic.com/cpro/ui/noexpire/...</td>\n",
       "      <td>cpro.baidustatic.com</td>\n",
       "      <td>com</td>\n",
       "    </tr>\n",
       "    <tr>\n",
       "      <th>1_0000813d43acf1fe219ada01597cfb1d5dc9c12b61f343c6cfac362b.json__0</th>\n",
       "      <td>https://apis.google.com/js/plusone.js?_=151338...</td>\n",
       "      <td>apis.google.com</td>\n",
       "      <td>com</td>\n",
       "    </tr>\n",
       "    <tr>\n",
       "      <th>1_0000813d43acf1fe219ada01597cfb1d5dc9c12b61f343c6cfac362b.json__1</th>\n",
       "      <td>https://apis.google.com/_/scs/apps-static/_/js...</td>\n",
       "      <td>apis.google.com</td>\n",
       "      <td>com</td>\n",
       "    </tr>\n",
       "    <tr>\n",
       "      <th>1_0000813d43acf1fe219ada01597cfb1d5dc9c12b61f343c6cfac362b.json__2</th>\n",
       "      <td>https://apis.google.com/_/scs/apps-static/_/js...</td>\n",
       "      <td>apis.google.com</td>\n",
       "      <td>com</td>\n",
       "    </tr>\n",
       "    <tr>\n",
       "      <th>1_0000e6f79b14876a8c7ddfcb7782502f2aa02e7803782d46f3bbfea7.json__0</th>\n",
       "      <td>https://assets.adobedtm.com/caacec67651710193d...</td>\n",
       "      <td>assets.adobedtm.com</td>\n",
       "      <td>com</td>\n",
       "    </tr>\n",
       "    <tr>\n",
       "      <th>1_0000e6f79b14876a8c7ddfcb7782502f2aa02e7803782d46f3bbfea7.json__1</th>\n",
       "      <td>https://assets.adobedtm.com/caacec67651710193d...</td>\n",
       "      <td>assets.adobedtm.com</td>\n",
       "      <td>com</td>\n",
       "    </tr>\n",
       "    <tr>\n",
       "      <th>1_0000e6f79b14876a8c7ddfcb7782502f2aa02e7803782d46f3bbfea7.json__2</th>\n",
       "      <td>https://assets.adobedtm.com/caacec67651710193d...</td>\n",
       "      <td>assets.adobedtm.com</td>\n",
       "      <td>com</td>\n",
       "    </tr>\n",
       "    <tr>\n",
       "      <th>1_0000e6f79b14876a8c7ddfcb7782502f2aa02e7803782d46f3bbfea7.json__3</th>\n",
       "      <td>https://assets.adobedtm.com/caacec67651710193d...</td>\n",
       "      <td>assets.adobedtm.com</td>\n",
       "      <td>com</td>\n",
       "    </tr>\n",
       "    <tr>\n",
       "      <th>1_0000e6f79b14876a8c7ddfcb7782502f2aa02e7803782d46f3bbfea7.json__4</th>\n",
       "      <td>https://assets.adobedtm.com/caacec67651710193d...</td>\n",
       "      <td>assets.adobedtm.com</td>\n",
       "      <td>com</td>\n",
       "    </tr>\n",
       "    <tr>\n",
       "      <th>1_0000e6f79b14876a8c7ddfcb7782502f2aa02e7803782d46f3bbfea7.json__5</th>\n",
       "      <td>https://assets.adobedtm.com/caacec67651710193d...</td>\n",
       "      <td>assets.adobedtm.com</td>\n",
       "      <td>com</td>\n",
       "    </tr>\n",
       "    <tr>\n",
       "      <th>1_0000e6f79b14876a8c7ddfcb7782502f2aa02e7803782d46f3bbfea7.json__6</th>\n",
       "      <td>https://assets.adobedtm.com/caacec67651710193d...</td>\n",
       "      <td>assets.adobedtm.com</td>\n",
       "      <td>com</td>\n",
       "    </tr>\n",
       "    <tr>\n",
       "      <th>1_0000e6f79b14876a8c7ddfcb7782502f2aa02e7803782d46f3bbfea7.json__7</th>\n",
       "      <td>https://assets.adobedtm.com/caacec67651710193d...</td>\n",
       "      <td>assets.adobedtm.com</td>\n",
       "      <td>com</td>\n",
       "    </tr>\n",
       "    <tr>\n",
       "      <th>1_0000e6f79b14876a8c7ddfcb7782502f2aa02e7803782d46f3bbfea7.json__8</th>\n",
       "      <td>https://assets.adobedtm.com/caacec67651710193d...</td>\n",
       "      <td>assets.adobedtm.com</td>\n",
       "      <td>com</td>\n",
       "    </tr>\n",
       "    <tr>\n",
       "      <th>1_0000e6f79b14876a8c7ddfcb7782502f2aa02e7803782d46f3bbfea7.json__9</th>\n",
       "      <td>https://assets.adobedtm.com/caacec67651710193d...</td>\n",
       "      <td>assets.adobedtm.com</td>\n",
       "      <td>com</td>\n",
       "    </tr>\n",
       "    <tr>\n",
       "      <th>1_0000e6f79b14876a8c7ddfcb7782502f2aa02e7803782d46f3bbfea7.json__10</th>\n",
       "      <td>https://assets.adobedtm.com/caacec67651710193d...</td>\n",
       "      <td>assets.adobedtm.com</td>\n",
       "      <td>com</td>\n",
       "    </tr>\n",
       "    <tr>\n",
       "      <th>1_0000e6f79b14876a8c7ddfcb7782502f2aa02e7803782d46f3bbfea7.json__11</th>\n",
       "      <td>https://assets.adobedtm.com/caacec67651710193d...</td>\n",
       "      <td>assets.adobedtm.com</td>\n",
       "      <td>com</td>\n",
       "    </tr>\n",
       "    <tr>\n",
       "      <th>1_0000e6f79b14876a8c7ddfcb7782502f2aa02e7803782d46f3bbfea7.json__12</th>\n",
       "      <td>https://assets.adobedtm.com/caacec67651710193d...</td>\n",
       "      <td>assets.adobedtm.com</td>\n",
       "      <td>com</td>\n",
       "    </tr>\n",
       "  </tbody>\n",
       "</table>\n",
       "</div>"
      ],
      "text/plain": [
       "                                                                                           script_url  \\\n",
       "call_id                                                                                                 \n",
       "1_00006011493ed94fb8010cead84ee610cdbece5de961a...            https://vk.com/js/api/xdm.js?1449919642   \n",
       "1_00006011493ed94fb8010cead84ee610cdbece5de961a...            https://vk.com/js/api/xdm.js?1449919642   \n",
       "1_00006011493ed94fb8010cead84ee610cdbece5de961a...        https://vk.com/js/al/aes_light.js?592436914   \n",
       "1_00006b1ad6ce7a5b2b81a8ef96f0778853ea6d81a9769...  https://cpro.baidustatic.com/cpro/ui/noexpire/...   \n",
       "1_0000813d43acf1fe219ada01597cfb1d5dc9c12b61f34...  https://apis.google.com/js/plusone.js?_=151338...   \n",
       "1_0000813d43acf1fe219ada01597cfb1d5dc9c12b61f34...  https://apis.google.com/_/scs/apps-static/_/js...   \n",
       "1_0000813d43acf1fe219ada01597cfb1d5dc9c12b61f34...  https://apis.google.com/_/scs/apps-static/_/js...   \n",
       "1_0000e6f79b14876a8c7ddfcb7782502f2aa02e7803782...  https://assets.adobedtm.com/caacec67651710193d...   \n",
       "1_0000e6f79b14876a8c7ddfcb7782502f2aa02e7803782...  https://assets.adobedtm.com/caacec67651710193d...   \n",
       "1_0000e6f79b14876a8c7ddfcb7782502f2aa02e7803782...  https://assets.adobedtm.com/caacec67651710193d...   \n",
       "1_0000e6f79b14876a8c7ddfcb7782502f2aa02e7803782...  https://assets.adobedtm.com/caacec67651710193d...   \n",
       "1_0000e6f79b14876a8c7ddfcb7782502f2aa02e7803782...  https://assets.adobedtm.com/caacec67651710193d...   \n",
       "1_0000e6f79b14876a8c7ddfcb7782502f2aa02e7803782...  https://assets.adobedtm.com/caacec67651710193d...   \n",
       "1_0000e6f79b14876a8c7ddfcb7782502f2aa02e7803782...  https://assets.adobedtm.com/caacec67651710193d...   \n",
       "1_0000e6f79b14876a8c7ddfcb7782502f2aa02e7803782...  https://assets.adobedtm.com/caacec67651710193d...   \n",
       "1_0000e6f79b14876a8c7ddfcb7782502f2aa02e7803782...  https://assets.adobedtm.com/caacec67651710193d...   \n",
       "1_0000e6f79b14876a8c7ddfcb7782502f2aa02e7803782...  https://assets.adobedtm.com/caacec67651710193d...   \n",
       "1_0000e6f79b14876a8c7ddfcb7782502f2aa02e7803782...  https://assets.adobedtm.com/caacec67651710193d...   \n",
       "1_0000e6f79b14876a8c7ddfcb7782502f2aa02e7803782...  https://assets.adobedtm.com/caacec67651710193d...   \n",
       "1_0000e6f79b14876a8c7ddfcb7782502f2aa02e7803782...  https://assets.adobedtm.com/caacec67651710193d...   \n",
       "\n",
       "                                                           script_netloc  \\\n",
       "call_id                                                                    \n",
       "1_00006011493ed94fb8010cead84ee610cdbece5de961a...                vk.com   \n",
       "1_00006011493ed94fb8010cead84ee610cdbece5de961a...                vk.com   \n",
       "1_00006011493ed94fb8010cead84ee610cdbece5de961a...                vk.com   \n",
       "1_00006b1ad6ce7a5b2b81a8ef96f0778853ea6d81a9769...  cpro.baidustatic.com   \n",
       "1_0000813d43acf1fe219ada01597cfb1d5dc9c12b61f34...       apis.google.com   \n",
       "1_0000813d43acf1fe219ada01597cfb1d5dc9c12b61f34...       apis.google.com   \n",
       "1_0000813d43acf1fe219ada01597cfb1d5dc9c12b61f34...       apis.google.com   \n",
       "1_0000e6f79b14876a8c7ddfcb7782502f2aa02e7803782...   assets.adobedtm.com   \n",
       "1_0000e6f79b14876a8c7ddfcb7782502f2aa02e7803782...   assets.adobedtm.com   \n",
       "1_0000e6f79b14876a8c7ddfcb7782502f2aa02e7803782...   assets.adobedtm.com   \n",
       "1_0000e6f79b14876a8c7ddfcb7782502f2aa02e7803782...   assets.adobedtm.com   \n",
       "1_0000e6f79b14876a8c7ddfcb7782502f2aa02e7803782...   assets.adobedtm.com   \n",
       "1_0000e6f79b14876a8c7ddfcb7782502f2aa02e7803782...   assets.adobedtm.com   \n",
       "1_0000e6f79b14876a8c7ddfcb7782502f2aa02e7803782...   assets.adobedtm.com   \n",
       "1_0000e6f79b14876a8c7ddfcb7782502f2aa02e7803782...   assets.adobedtm.com   \n",
       "1_0000e6f79b14876a8c7ddfcb7782502f2aa02e7803782...   assets.adobedtm.com   \n",
       "1_0000e6f79b14876a8c7ddfcb7782502f2aa02e7803782...   assets.adobedtm.com   \n",
       "1_0000e6f79b14876a8c7ddfcb7782502f2aa02e7803782...   assets.adobedtm.com   \n",
       "1_0000e6f79b14876a8c7ddfcb7782502f2aa02e7803782...   assets.adobedtm.com   \n",
       "1_0000e6f79b14876a8c7ddfcb7782502f2aa02e7803782...   assets.adobedtm.com   \n",
       "\n",
       "                                                   script_netloc_uniquedf  \n",
       "call_id                                                                    \n",
       "1_00006011493ed94fb8010cead84ee610cdbece5de961a...                    com  \n",
       "1_00006011493ed94fb8010cead84ee610cdbece5de961a...                    com  \n",
       "1_00006011493ed94fb8010cead84ee610cdbece5de961a...                    com  \n",
       "1_00006b1ad6ce7a5b2b81a8ef96f0778853ea6d81a9769...                    com  \n",
       "1_0000813d43acf1fe219ada01597cfb1d5dc9c12b61f34...                    com  \n",
       "1_0000813d43acf1fe219ada01597cfb1d5dc9c12b61f34...                    com  \n",
       "1_0000813d43acf1fe219ada01597cfb1d5dc9c12b61f34...                    com  \n",
       "1_0000e6f79b14876a8c7ddfcb7782502f2aa02e7803782...                    com  \n",
       "1_0000e6f79b14876a8c7ddfcb7782502f2aa02e7803782...                    com  \n",
       "1_0000e6f79b14876a8c7ddfcb7782502f2aa02e7803782...                    com  \n",
       "1_0000e6f79b14876a8c7ddfcb7782502f2aa02e7803782...                    com  \n",
       "1_0000e6f79b14876a8c7ddfcb7782502f2aa02e7803782...                    com  \n",
       "1_0000e6f79b14876a8c7ddfcb7782502f2aa02e7803782...                    com  \n",
       "1_0000e6f79b14876a8c7ddfcb7782502f2aa02e7803782...                    com  \n",
       "1_0000e6f79b14876a8c7ddfcb7782502f2aa02e7803782...                    com  \n",
       "1_0000e6f79b14876a8c7ddfcb7782502f2aa02e7803782...                    com  \n",
       "1_0000e6f79b14876a8c7ddfcb7782502f2aa02e7803782...                    com  \n",
       "1_0000e6f79b14876a8c7ddfcb7782502f2aa02e7803782...                    com  \n",
       "1_0000e6f79b14876a8c7ddfcb7782502f2aa02e7803782...                    com  \n",
       "1_0000e6f79b14876a8c7ddfcb7782502f2aa02e7803782...                    com  "
      ]
     },
     "execution_count": 7,
     "metadata": {},
     "output_type": "execute_result"
    }
   ],
   "source": [
    "\n",
    "dff = dd.read_parquet(\n",
    "     '/home/soumya/Dataset/sample_0.parquet', engine='pyarrow',\n",
    "    columns=['script_url']\n",
    ")\n",
    "def get_netloc(x):\n",
    "    p = urlparse(x)\n",
    "    val = p.netloc\n",
    "    if len(val) == 0:\n",
    "        val = EMPTY_STRING\n",
    "    return val\n",
    "def get_end_of_net_loc(x):\n",
    "    splits = x.split('.')\n",
    "    val = splits[-1]\n",
    "    return val\n",
    "\n",
    "dff['script_netloc'] = dff.script_url.apply(get_netloc)\n",
    "dff['script_netloc_uniquedf']=dff.script_netloc.apply(get_end_of_net_loc)\n",
    "dff.head(20)\n"
   ]
  },
  {
   "cell_type": "code",
   "execution_count": 8,
   "metadata": {},
   "outputs": [
    {
     "data": {
      "text/plain": [
       "281"
      ]
     },
     "execution_count": 8,
     "metadata": {},
     "output_type": "execute_result"
    }
   ],
   "source": [
    "# Cont of unique TLD\n",
    "count=dff.script_netloc_uniquedf.nunique().compute()\n",
    "count"
   ]
  },
  {
   "cell_type": "markdown",
   "metadata": {},
   "source": [
    "## Frequency of each TLD in the dataset"
   ]
  },
  {
   "cell_type": "code",
   "execution_count": 9,
   "metadata": {
    "scrolled": true
   },
   "outputs": [
    {
     "data": {
      "text/plain": [
       "script_netloc_uniquedf\n",
       "com             7336833\n",
       "net             1898419\n",
       "ru               630262\n",
       "cn               154068\n",
       "de               153067\n",
       "fr                85601\n",
       "jp                70494\n",
       "ch                59317\n",
       "au                46514\n",
       "org               45280\n",
       "ua                36922\n",
       "pl                35804\n",
       "es                34690\n",
       "uk                33143\n",
       "io                32921\n",
       "it                31258\n",
       "js                30587\n",
       "kr                25107\n",
       "tv                23806\n",
       "ke                23477\n",
       "aero              23244\n",
       "network           22926\n",
       "vn                21577\n",
       "edu               21269\n",
       "ca                21070\n",
       "co                21017\n",
       "ma                18195\n",
       "EMPTY_STRING      17992\n",
       "br                17445\n",
       "in                16488\n",
       "                 ...   \n",
       "website               5\n",
       "213                   5\n",
       "cn:8888               4\n",
       "center                4\n",
       "ga                    4\n",
       "sn                    3\n",
       "td                    3\n",
       "146:81                3\n",
       "edu:8443              3\n",
       "bn                    3\n",
       "78                    3\n",
       "218                   2\n",
       "com:8585              2\n",
       "xxx                   2\n",
       "tf                    2\n",
       "ltd                   2\n",
       "ad                    2\n",
       "md                    1\n",
       "nyc                   1\n",
       "mil                   1\n",
       "bw                    1\n",
       "cern                  1\n",
       "mz                    1\n",
       "jm                    1\n",
       "38                    1\n",
       "com:6060              1\n",
       "248                   1\n",
       "af                    1\n",
       "104:81                1\n",
       "mr                    1\n",
       "Length: 281, dtype: int64"
      ]
     },
     "execution_count": 9,
     "metadata": {},
     "output_type": "execute_result"
    }
   ],
   "source": [
    "Frequency=dff.groupby('script_netloc_uniquedf').size().compute().sort_values(ascending=False)\n",
    "Frequency"
   ]
  },
  {
   "cell_type": "markdown",
   "metadata": {},
   "source": [
    "## Top 10 TLD in the Data"
   ]
  },
  {
   "cell_type": "code",
   "execution_count": 10,
   "metadata": {},
   "outputs": [
    {
     "name": "stdout",
     "output_type": "stream",
     "text": [
      "com 7336833\n",
      "net 1898419\n",
      "ru 630262\n",
      "cn 154068\n",
      "de 153067\n",
      "fr 85601\n",
      "jp 70494\n",
      "ch 59317\n",
      "au 46514\n",
      "org 45280\n"
     ]
    }
   ],
   "source": [
    "for i in range(0,10):\n",
    "    temp=Frequency[i]\n",
    "    temp_url=Frequency.index[i]\n",
    "    print(temp_url,temp)"
   ]
  },
  {
   "cell_type": "code",
   "execution_count": 16,
   "metadata": {},
   "outputs": [
    {
     "data": {
      "image/png": "[encoded data removed]",
      "text/plain": [
       "<Figure size 432x288 with 1 Axes>"
      ]
     },
     "metadata": {
      "needs_background": "light"
     },
     "output_type": "display_data"
    }
   ],
   "source": [
    "dfplot = pd.DataFrame({'domain':['com', 'net', 'ru','cn','de','fr','jp','ch','au','org'], 'val':[7336833,1898419,630262,154068,153067,85601,70494,59317,46514,45280]})\n",
    "ax = dfplot.plot.bar(x='domain', y='val', rot=0)"
   ]
  },
  {
   "cell_type": "markdown",
   "metadata": {},
   "source": [
    "This shows the dataset consists of a maximum of .com(commercial) TLD followed ny .net(network). \n",
    "\n",
    "It also shows the distribution of scripts accross different countries with the help of country specific TLDs. It shows .ru is at the top followed by .cn."
   ]
  },
  {
   "cell_type": "markdown",
   "metadata": {},
   "source": [
    "## Audio Fingerprinting\n",
    "\n",
    "An audio fingerprint (also referred to as an acoustic fingerprint) is a compact representation of some audio that encapsulates information that is specific to the audio that it represents. The role of an audio fingerprint is to capture the signature of a piece of sound, such as a song, that allows it to be differentiated from other sounds."
   ]
  },
  {
   "cell_type": "markdown",
   "metadata": {},
   "source": [
    "## TLD in the Audio Fingerprinting Scripts\n",
    "[Refer]() for the code to extract TLD."
   ]
  },
  {
   "cell_type": "code",
   "execution_count": 12,
   "metadata": {},
   "outputs": [
    {
     "data": {
      "image/png": "[encoded data removed]",
      "text/plain": [
       "<Figure size 432x288 with 1 Axes>"
      ]
     },
     "metadata": {
      "needs_background": "light"
     },
     "output_type": "display_data"
    }
   ],
   "source": [
    "\n",
    "dfplot = pd.DataFrame({'domain':['com', 'net', 'vn','org','pub','st','io'], 'count':[31,14,2,2,1,1,1]})\n",
    "ax = dfplot.plot.bar(x='domain', y='count', rot=0)"
   ]
  },
  {
   "cell_type": "markdown",
   "metadata": {},
   "source": [
    "## Canvas Fingerprinting\n",
    "\n",
    "Canvas fingerprinting is one of a number of browser fingerprinting techniques for tracking online users that allow websites to identify and track visitors using the HTML5 canvas element instead of browser cookies or other similar means. \n",
    "As described by Acar et. al. in [The Web never forgets: Persistent tracking mechanisms in the wild](https://securehomes.esat.kuleuven.be/~gacar/persistent/index.html)\n",
    "Fingerprinting script first draws text with the font and size of its choice and adds background colors (1). Next, the script calls Canvas API’s ToDataURL method to get the canvas pixel data in dataURL format (2), which is basically a Base64 encoded representation of the binary pixel data. Finally, the script takes the hash of the text-encoded pixel data (3), which serves as the fingerprint "
   ]
  },
  {
   "cell_type": "markdown",
   "metadata": {},
   "source": [
    "## TLD in the Canvas Fingerprinting Scripts\n",
    "[Refer]() for the code to extract TLD."
   ]
  },
  {
   "cell_type": "code",
   "execution_count": 13,
   "metadata": {
    "scrolled": false
   },
   "outputs": [
    {
     "data": {
      "image/png": "[encoded data removed]",
      "text/plain": [
       "<Figure size 432x288 with 1 Axes>"
      ]
     },
     "metadata": {
      "needs_background": "light"
     },
     "output_type": "display_data"
    }
   ],
   "source": [
    "\n",
    "dfplot = pd.DataFrame({'domain':['com','network','net','es', 'cn','de','ca','co.uk','it','co.jp'], 'count':[851,118,96,83,52,44,36,35,23,15]})\n",
    "ax = dfplot.plot.bar(x='domain', y='count', rot=0)"
   ]
  },
  {
   "cell_type": "markdown",
   "metadata": {},
   "source": [
    "## Font Fingerprinting \n",
    "\n",
    "Font fingerprinting – is what fonts you have, and how they are drawn. Based on measuring dimensions of the filled with text HTML elements, it is possible to build an identifier that can be used to track the same browser over time.\n",
    "\n",
    "The font is a file used by programs on your device when they want to display a text with a certain shape for the characters. For example, in Windows, the font files are located in the C:WindowsFonts folder.\n",
    "Your device has a list of fonts that can be used. Standard fonts are those fonts that came with your operating system. But most of the software you installed on your device brings with them other fonts during software installation. The chances of you having the same programs installed on your device as another individual are very small (it’s just like the lottery), so you will have a list of fonts installed that is almost certainly unique.\n",
    "Because any website you visit can see almost all your list of fonts, this site can recognize you the next time you access it.\n",
    "\n",
    "\n",
    "Font metric-based fingerprinting is tightly crossed with the canvas fingerprinting. It is probably weaker fingerprinting technique, since canvas gets not only bounding boxes but also pixel data. On the other hand font fingerprinting is much more difficult to defend.\n",
    "\n"
   ]
  },
  {
   "cell_type": "markdown",
   "metadata": {},
   "source": [
    "## TLD in the Font Fingerprinting Scripts\n",
    "\n",
    "[Refer]() for the code to extract TLD."
   ]
  },
  {
   "cell_type": "code",
   "execution_count": 14,
   "metadata": {},
   "outputs": [
    {
     "data": {
      "image/png": "[encoded data removed]",
      "text/plain": [
       "<Figure size 432x288 with 1 Axes>"
      ]
     },
     "metadata": {
      "needs_background": "light"
     },
     "output_type": "display_data"
    }
   ],
   "source": [
    "\n",
    "dfplot = pd.DataFrame({'domain':['network','com','net','vn'], 'count':[110,49,4,2]})\n",
    "ax = dfplot.plot.bar(x='domain', y='count', rot=0)\n"
   ]
  },
  {
   "cell_type": "markdown",
   "metadata": {},
   "source": [
    "Unlike others Font fingerprinting shows the .network TLD scripts are the highest contributorsfollowed by .com."
   ]
  },
  {
   "cell_type": "markdown",
   "metadata": {},
   "source": [
    "## WebRTC Fingerprinting\n",
    "\n",
    "[WebRTC](http://randomwalker.info/publications/OpenWPM_1_million_site_tracking_measurement.pdf) is a framework for peer-to-peer Real Time Communication in the browser, and acces-sible via Javascript. To discover the best network path between peers, each peer collects all available candidate addresses, including addresses from the local network interfaces (such as ethernet or WiFi) and addresses from the public side of the NAT and makes them available to the web application without explicit permission from the user.\n",
    "\n",
    "\n"
   ]
  },
  {
   "cell_type": "markdown",
   "metadata": {},
   "source": [
    "## TLD in the WebRTC Fingerprinting Scripts\n",
    "[Refer]() for the code to extract TLD."
   ]
  },
  {
   "cell_type": "code",
   "execution_count": 15,
   "metadata": {
    "scrolled": false
   },
   "outputs": [
    {
     "data": {
      "image/png": "[encoded data removed]",
      "text/plain": [
       "<Figure size 432x288 with 1 Axes>"
      ]
     },
     "metadata": {
      "needs_background": "light"
     },
     "output_type": "display_data"
    }
   ],
   "source": [
    "\n",
    "dfplot = pd.DataFrame({'domain':['com','cn','ua','net', 'photos','re','vn','es','com.br','io'], 'count':[143,42,22,11,4,2,2,1,1,1]})\n",
    "ax = dfplot.plot.bar(x='domain', y='count', rot=0)"
   ]
  },
  {
   "cell_type": "markdown",
   "metadata": {},
   "source": [
    "It can be seen that highest contributor is .com followed by .cn .ua and .net is followed by them"
   ]
  },
  {
   "cell_type": "markdown",
   "metadata": {},
   "source": [
    "## Conlusion\n",
    "\n",
    "The dataset consists of the maximum of .com and .net TLDs and hence audio, canvas fingerprinting show the same. However, font fingerprinting shows the maximum of .net and in webrtcfingerprinting .cn and .ua have gretaer contribution as compared to .net. \n",
    "If we consider the ccTLDs 'es', 'cn','de','ca','co.uk','it','co.jp','ua' are contributing towards fingerprinting.\n",
    "\n",
    "## Future  work\n",
    "\n",
    "Looking at the TLD provides some insight regarding the associated website such as its objective (business, government, education), its owner, or the geographical area from which it originated.\n",
    "\n",
    "In order to take the analysis further we can look at the frequency of the extracted fingerprinting scripts in the dataset. Further, we can start by analysing the scripts according to their frequency and try to analyse their behaviour.\n",
    "\n",
    "Few questions which can be given a thought during the analysis.\n",
    "\n",
    "- Is the script contributing to fingerprinting everytime it is called or there are specific instances?\n",
    "- Is the script helping to establish a crossbrowser fingerprint? \n",
    "- Or a broader question, Are there any other privacy concerns while that script is executing, maybe in terms of the information it is targeting.\n",
    "\n",
    "\n",
    "\n",
    "\n",
    "\n",
    "\n",
    "\n",
    "\n"
   ]
  }
 ],
 "metadata": {
  "kernelspec": {
   "display_name": "Python 3",
   "language": "python",
   "name": "python3"
  },
  "language_info": {
   "codemirror_mode": {
    "name": "ipython",
    "version": 3
   },
   "file_extension": ".py",
   "mimetype": "text/x-python",
   "name": "python",
   "nbconvert_exporter": "python",
   "pygments_lexer": "ipython3",
   "version": "3.6.7"
  }
 },
 "nbformat": 4,
 "nbformat_minor": 2
}
